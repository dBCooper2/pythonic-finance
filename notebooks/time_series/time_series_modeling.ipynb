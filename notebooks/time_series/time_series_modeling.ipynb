{
 "cells": [
  {
   "cell_type": "markdown",
   "metadata": {},
   "source": [
    "# __Time Series Modeling__\n",
    "\n",
    "_By: Trevor Rowland_ ([@dBCooper2](https://github.com/dBCooper2))"
   ]
  },
  {
   "cell_type": "markdown",
   "metadata": {},
   "source": [
    "### _References_:\n",
    "\n",
    "Ruppert, David and David S. Matteson. _Statistics and Data Analysis for Financial Engineering with R examples_. $2^{nd}$ ed., Springer, 2015."
   ]
  },
  {
   "cell_type": "markdown",
   "metadata": {},
   "source": [
    "### _Table of Contents_\n",
    "\n",
    "[Ch 4. Exploratory Data Analysis](#textbook-chapter-4---exploratory-data-analysis)\n",
    "\n",
    "[Ch 12. Time Series Modeling: Basics](#textbook-chapter-12---time-series-models-basics)\n",
    "\n",
    "[Ch 13. Times Series Modeling: Further Topics](#textbook-chapter-13---time-series-models-further-topics)"
   ]
  },
  {
   "cell_type": "markdown",
   "metadata": {},
   "source": [
    "## Textbook Chapter 4 - Exploratory Data Analysis"
   ]
  },
  {
   "cell_type": "markdown",
   "metadata": {},
   "source": [
    "## Textbook Chapter 12 - Time Series Models: Basics"
   ]
  },
  {
   "cell_type": "markdown",
   "metadata": {},
   "source": [
    "## Textbook Chapter 13 - Time Series Models: Further Topics"
   ]
  }
 ],
 "metadata": {
  "language_info": {
   "name": "python"
  }
 },
 "nbformat": 4,
 "nbformat_minor": 2
}
