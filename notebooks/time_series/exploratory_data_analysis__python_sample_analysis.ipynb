{
 "cells": [
  {
   "cell_type": "markdown",
   "metadata": {},
   "source": [
    "# __Time Series Modeling:__ _Exploratory Data Analysis_\n",
    "\n",
    "## ___Notebook 3:___ _Sample Analysis in Python_\n",
    "\n",
    "_By: Trevor Rowland_ ([@dBCooper2](https://github.com/dBCooper2))\n",
    "\n",
    "Evaluating the Distributions of Samples using different estimators, transformations and plots."
   ]
  },
  {
   "cell_type": "markdown",
   "metadata": {},
   "source": [
    "## _References_\n",
    "\n",
    "Normal Distribution Dataset - https://seattlecentral.edu/qelp/sets/057/057.html"
   ]
  },
  {
   "cell_type": "markdown",
   "metadata": {},
   "source": [
    "## _Table of Contents_"
   ]
  },
  {
   "cell_type": "markdown",
   "metadata": {},
   "source": [
    "## Computing the Sample CDF"
   ]
  },
  {
   "cell_type": "markdown",
   "metadata": {},
   "source": [
    "## Computing Sample Quantiles"
   ]
  },
  {
   "cell_type": "markdown",
   "metadata": {},
   "source": [
    "### _Computing the Central Limit Theorem for Sample Quantiles_"
   ]
  },
  {
   "cell_type": "markdown",
   "metadata": {},
   "source": [
    "### _Normal Probability Plots_"
   ]
  },
  {
   "cell_type": "markdown",
   "metadata": {},
   "source": [
    "### _Half-Normal Plots_"
   ]
  },
  {
   "cell_type": "markdown",
   "metadata": {},
   "source": [
    "### _Quantile-Quantile Plots_"
   ]
  },
  {
   "cell_type": "markdown",
   "metadata": {},
   "source": [
    "## Tests of Normality"
   ]
  },
  {
   "cell_type": "markdown",
   "metadata": {},
   "source": [
    "### _The Shapiro-Wilk Test_"
   ]
  }
 ],
 "metadata": {
  "language_info": {
   "name": "python"
  }
 },
 "nbformat": 4,
 "nbformat_minor": 2
}
