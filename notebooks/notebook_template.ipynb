{
 "cells": [
  {
   "cell_type": "markdown",
   "metadata": {},
   "source": [
    "# __Title:__ _Subtitle_\n",
    "\n",
    "_By: Trevor Rowland_ ([@dBCooper2](https://github.com/dBCooper2))"
   ]
  },
  {
   "cell_type": "markdown",
   "metadata": {},
   "source": [
    "## _References_\n",
    "\n",
    "Add Bibliography here"
   ]
  },
  {
   "cell_type": "markdown",
   "metadata": {},
   "source": [
    "## _Table of Contents_\n",
    "\n",
    "Topic 1\n",
    "\n",
    "__..__ Subtopic 1\n",
    "\n",
    "__....__ Addt'l Subtopic 1.a\n",
    "\n",
    "__......__ Headings within Subtopic 1.a\n",
    "\n",
    "Each Chapter should be linked here"
   ]
  },
  {
   "cell_type": "markdown",
   "metadata": {},
   "source": [
    "## __Topic 1__"
   ]
  },
  {
   "cell_type": "markdown",
   "metadata": {},
   "source": [
    "Intro to Topic 1"
   ]
  },
  {
   "cell_type": "markdown",
   "metadata": {},
   "source": [
    "### _Subtopic 1_"
   ]
  },
  {
   "cell_type": "markdown",
   "metadata": {},
   "source": [
    "#### Additional Subtopics within Subtopic 1\n",
    "\n",
    "##### Headings"
   ]
  },
  {
   "cell_type": "markdown",
   "metadata": {},
   "source": [
    "Text should not be in a cell with a header of a topic"
   ]
  }
 ],
 "metadata": {
  "language_info": {
   "name": "python"
  }
 },
 "nbformat": 4,
 "nbformat_minor": 2
}
