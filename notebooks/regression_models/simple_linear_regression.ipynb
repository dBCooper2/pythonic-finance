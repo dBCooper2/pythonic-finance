{
 "cells": [
  {
   "cell_type": "markdown",
   "metadata": {},
   "source": [
    "# __Simple Linear Regression in Python__\n",
    "\n",
    "By: Trevor Rowland ([dBCooper2](https://github.com/dBCooper2))\n",
    "\n",
    "Creating a Linear Regression Model from scratch\n",
    "\n",
    "This is an old notebook from the Portfolio Backtesting repository. I figured it would fit better here versus a project repository as this is a series of notebooks instead of a final product."
   ]
  },
  {
   "cell_type": "markdown",
   "metadata": {},
   "source": [
    "___ADD AN IMAGE HERE___"
   ]
  },
  {
   "cell_type": "markdown",
   "metadata": {},
   "source": [
    "### _References_\n",
    "\n",
    "NeuralNine. \"Linear Regression from Scratch in Python.\" NeuralNine, NeuralNine, <https://www.neuralnine.com/linear-regression-from-scratch-in-python/>"
   ]
  },
  {
   "cell_type": "markdown",
   "metadata": {},
   "source": [
    "### _Table of Contents_\n",
    "\n",
    "#### [The Theory](#the-theory)\n",
    "  - [Mean Squared Error](#mean-squared-error)\n",
    "\n",
    "  - [Partial Derivatives of the Error Function](#partial-derivatives-of-the-error-function)\n",
    "\n",
    "  - [The Gradient Descent](#the-gradient-descent)\n",
    "\n",
    "#### [Applying the Theory to Python](#applying-the-theory-to-python)\n",
    "  \n",
    "  - [Gradient Descent Function](#gradient-descent-function)\n",
    "  \n",
    "  - [Performing Linear Regression](#performing-linear-regression)\n",
    "  \n",
    "  - [Testing the Linear Regression Model](#testing-the-linear-regression-model)\n",
    "  \n",
    "  - [Plotting the Regression Line](#plotting-the-regression-line)\n",
    "\n",
    "#### [Evaluating the Regression Results](#evaluating-the-regression-results)\n",
    "  - [Variance](#variance)\n",
    "  \n",
    "  - [Bias](#bias)\n",
    "  \n",
    "  - [Confidence Intervals](#confidence-intervals)\n",
    "  \n",
    "  - [P-Values](#p-values)\n",
    "  \n",
    "  - [R-Squared](#r-squared)\n",
    "  \n",
    "  - [Adjusted R-Squared](#adjusted-r-squared)"
   ]
  },
  {
   "cell_type": "markdown",
   "metadata": {},
   "source": [
    "## The Theory"
   ]
  },
  {
   "cell_type": "markdown",
   "metadata": {},
   "source": [
    "Regression Analysis is a tool used in statistics and finance to see how strongly related an dependent variable and one or more independent variables are. "
   ]
  },
  {
   "cell_type": "markdown",
   "metadata": {},
   "source": [
    "This regression model uses an Ordinary Least Squares(OLS) approach to regression. The OLS model plots a line on a scatter plot, measures how far away it is from each point, then iteratively adjusts the slope and y-intercept in the linear equation to provide the line of best fit for the data.\n",
    "\n",
    "_How does this happen?_\n",
    "\n",
    "The Regression Model plots a line through all of the points in our dataset. \n",
    "\n",
    "When the line is plotted, the points on the line will be different from the points in the dataset. The difference between the actual point and the point estimated by the line ($Y_i-\\hat{Y_i}$) can be called an error. \n",
    "\n",
    "The sum of those errors can be calculated to find the total error in the regression line. \n",
    "\n",
    "Squaring those errors and dividing that sum of all squared errors by the number of y-values gives us a measure called the __Mean Squared Error__, or MSE:\n",
    "\n",
    "$$MSE=\\frac{1}{n} \\sum_{i=0}^{n}(Y_i - \\hat{Y}_i)^2$$\n",
    "\n",
    "given\n",
    "\n",
    "$$ \\hat{Y}_i = mx_i+b$$"
   ]
  },
  {
   "cell_type": "markdown",
   "metadata": {},
   "source": [
    "### Mean Squared Error"
   ]
  },
  {
   "cell_type": "markdown",
   "metadata": {},
   "source": [
    "__The Mean Squared Error describes what the average error is__, and to make the best-fit regression line, __that error must be minimized__. \n",
    "\n",
    "Because the data cannot be modified, to develop the best-fit regression line the slope ($m$) and the y-intercept($b$) must be modified. This involves iterating over many different calculated values of $m$ and $b$, so how will the program know how to adjust the values across iterations?\n",
    "\n",
    "The program will adjust the values by calculating the gradient descent of the Error($E$) with respect to $m$ and with respect to $b$. This can be done using partial derivatives of the Error function to find the fastest way to increase the Error because derivatives measure a rate of change. Here are the calculations to find those gradient descent functions:\n",
    "\n",
    "$$ MSE = E(\\hat{Y}_i) = (\\frac{1}{n}) \\sum_{i=0}^{n}(Y_i - \\hat{Y}_i)^2$$\n",
    "\n",
    "which decomposes into:\n",
    "\n",
    "$$ MSE = E(m,b) = (\\frac{1}{n}) \\sum_{i=0}^{n}(Y_i - (mx_i+b))^2$$\n",
    "\n",
    "and for easier calculations, can be fully expanded into:\n",
    "\n",
    "$$ E(m,b) = (\\frac{1}{n}) \\sum_{i=0}^{n}(Y_i^2 -2Y_imx_i-2Y_ib+m^2x_i^2+2mx_ib+b^2)$$"
   ]
  },
  {
   "cell_type": "markdown",
   "metadata": {},
   "source": [
    "### Partial Derivatives of the Error Function"
   ]
  },
  {
   "cell_type": "markdown",
   "metadata": {},
   "source": [
    "Taking the Partial Derivative of E(m,b) with respect to m:\n",
    "\n",
    "$$(\\frac{\\partial}{\\partial m})E(m,b) = (\\frac{\\partial}{\\partial m})(\\frac{1}{n}) \\sum_{i=0}^{n}(Y_i^2 -2Y_imx_i-2Y_ib+m^2x_i^2+2mx_ib+b^2)$$\n",
    "\n",
    "$$\\frac{\\partial E}{\\partial m} = (\\frac{1}{n}) \\sum_{i=0}^{n}( -2Y_ix_i+2mx_i^2+2x_ib)$$\n",
    "\n",
    "$$\\frac{\\partial E}{\\partial m} = (\\frac{-2}{n}) \\sum_{i=0}^{n}(Y_ix_i-mx_i^2-x_ib)$$\n",
    "\n",
    "$$\\frac{\\partial E}{\\partial m} = (\\frac{-2}{n}) \\sum_{i=0}^{n}x_i(Y_i-mx_i-b)$$\n",
    "\n",
    "$$\\frac{\\partial E}{\\partial m} = (\\frac{-2}{n}) \\sum_{i=0}^{n}[x_i(Y_i-(mx_i+b))]$$\n",
    "\n",
    "Taking the Partial Derivative of E(m,b) with respect to b:\n",
    "\n",
    "$$(\\frac{\\partial}{\\partial b})E(m,b) = (\\frac{\\partial}{\\partial b})(\\frac{1}{n}) \\sum_{i=0}^{n}(Y_i^2 -2Y_imx_i-2Y_ib+m^2x_i^2+2mx_ib+b^2)$$\n",
    "\n",
    "$$\\frac{\\partial E}{\\partial b} = (\\frac{1}{n}) \\sum_{i=0}^{n}(-2Y_i+2mx_i+2b)$$\n",
    "\n",
    "$$\\frac{\\partial E}{\\partial b} = (\\frac{-2}{n}) \\sum_{i=0}^{n}(Y_i-mx_i-b)$$\n",
    "\n",
    "$$\\frac{\\partial E}{\\partial b} = (\\frac{-2}{n}) \\sum_{i=0}^{n}(Y_i-(mx_i+b))$$\n",
    "\n",
    "After these calculations, the partial derivatives of the error function are as follows:\n",
    "\n",
    "$$\\frac{\\partial E}{\\partial m} = (\\frac{-2}{n}) \\sum_{i=0}^{n}[x_i(Y_i-(mx_i+b))]$$\n",
    "\n",
    "$$\\frac{\\partial E}{\\partial b} = (\\frac{-2}{n}) \\sum_{i=0}^{n}(Y_i-(mx_i+b))$$"
   ]
  },
  {
   "cell_type": "markdown",
   "metadata": {},
   "source": [
    "### The Gradient Descent"
   ]
  },
  {
   "cell_type": "markdown",
   "metadata": {},
   "source": [
    "The gradient descent function is calculated by subtracting the partial derivative from the current value of $m$ or $b$, respectively, so our equations for the learning rate look like this:\n",
    "\n",
    "$$m_{new} = m_{current} - \\frac{\\partial E}{\\partial m}$$\n",
    "\n",
    "$$b_{new} = m_{current} - \\frac{\\partial E}{\\partial b}$$\n",
    "\n",
    "The program _subtracts_ the partial derivative because the regression analysis should use the gradient descent, and the current partial derivative calculates the gradient ascent.\n",
    "\n",
    "This would be great if the program was going to run all at once, but because the regression function will be calculated iteratively, the partial derivatives need to be multiplied by a constant to set the step size for each iteration. This is known as the __Learning Rate__, and will be denoted by $L$, making the gradient descent functions: \n",
    "\n",
    "$$m_{new} = m_{current} - L\\frac{\\partial E}{\\partial m}$$\n",
    "\n",
    "$$b_{new} = m_{current} - L\\frac{\\partial E}{\\partial b}$$\n",
    "\n",
    "where $0 < L <1$\n",
    "\n",
    "The learning rate value will be set later, but the important thing to note now is that the smaller the learning rate or step size, the more the model will try to fit the line to the data. For example, $L=.1$ is going to be less precise than $L=.001$, which is less precise than $L=.00001$, and so on."
   ]
  },
  {
   "cell_type": "markdown",
   "metadata": {},
   "source": [
    "## Applying the Theory to Python"
   ]
  },
  {
   "cell_type": "markdown",
   "metadata": {},
   "source": [
    "To apply the calculations of the partial derivatives of the Error function in Python, the gradient descent function must be defined in Python, and then the program will iterate over calls to that function."
   ]
  },
  {
   "cell_type": "markdown",
   "metadata": {},
   "source": [
    "### Gradient Descent Function"
   ]
  },
  {
   "cell_type": "code",
   "execution_count": 1,
   "metadata": {},
   "outputs": [],
   "source": [
    "def gradient_descent(m_current, b_current, df, learning_rate):\n",
    "    m_gradient = 0\n",
    "    b_gradient = 0\n",
    "\n",
    "    n = len(df) # The number of rows in the dataset\n",
    "\n",
    "    # Calculate the partial derivative summations\n",
    "    for i in range(n):\n",
    "        x = df.iloc[i].x\n",
    "        y = df.iloc[i].y\n",
    "\n",
    "        # These are a pythonic representation of partial derivative equations found in the theory section\n",
    "        m_gradient += (-2/n) * x * (y - (m_current * x + b_current))\n",
    "        b_gradient += (-2/n) * (y - (m_current * x + b_current))\n",
    "\n",
    "    # Calculate the Gradient Descent equations from the theory section\n",
    "    m = m_current - learning_rate * m_gradient\n",
    "    b = b_current - learning_rate * b_gradient\n",
    "\n",
    "    return m,b"
   ]
  },
  {
   "cell_type": "markdown",
   "metadata": {},
   "source": [
    "### Performing Linear Regression\n",
    "\n",
    "Now that the gradient descent function is complete, a function to iteratively call that function is needed to minimize the error of the regression line"
   ]
  },
  {
   "cell_type": "code",
   "execution_count": 2,
   "metadata": {},
   "outputs": [],
   "source": [
    "def ols_regression(learning_rate, iterations, df):\n",
    "    m = 0\n",
    "    b = 0\n",
    "\n",
    "    for i in range(iterations):\n",
    "        m,b = gradient_descent(m, b, df, learning_rate)\n",
    "\n",
    "    return m,b"
   ]
  },
  {
   "cell_type": "markdown",
   "metadata": {},
   "source": [
    "### Testing the Linear Regression Model\n",
    "\n",
    "To apply the OLS linear regression functions, the program will take a dataset and perform the regression on it. The [dataset](https://www.kaggle.com/datasets/luddarell/101-simple-linear-regressioncsv?resource=download) being used is just a simple CSV file by [luddarell](https://www.kaggle.com/luddarell) from [kaggle](https://www.kaggle.com/)."
   ]
  },
  {
   "cell_type": "code",
   "execution_count": 3,
   "metadata": {},
   "outputs": [],
   "source": [
    "import pandas as pd\n",
    "\n",
    "# Import the Data\n",
    "file = '/Users/dB/Documents/repos/github/portfolio-backtesting/docs/data/1.01_Simple_linear_regression.csv'\n",
    "\n",
    "df = pd.read_csv(file)\n",
    "df2 = pd.DataFrame()\n",
    "\n",
    "df2['y'] = df['SAT']\n",
    "df2['x'] = df['GPA']\n",
    "\n",
    "df = df2"
   ]
  },
  {
   "cell_type": "code",
   "execution_count": 4,
   "metadata": {},
   "outputs": [
    {
     "name": "stdout",
     "output_type": "stream",
     "text": [
      "477.47759913775326 250.49383109375495\n"
     ]
    }
   ],
   "source": [
    "# Run the Regression Model:\n",
    "learning_rate = .001\n",
    "iterations = 10000\n",
    "m,b = ols_regression(learning_rate, iterations, df)\n",
    "print(m,b)"
   ]
  },
  {
   "cell_type": "markdown",
   "metadata": {},
   "source": [
    "### Plotting the Regression Line\n",
    "\n",
    "To plot the regression line and observe the variance, use seaborn's regplot() function."
   ]
  },
  {
   "cell_type": "code",
   "execution_count": 5,
   "metadata": {},
   "outputs": [
    {
     "data": {
      "text/plain": [
       "<Axes: xlabel='x', ylabel='y'>"
      ]
     },
     "execution_count": 5,
     "metadata": {},
     "output_type": "execute_result"
    },
    {
     "data": {
      "image/png": "[encoded data removed]",
      "text/plain": [
       "<Figure size 640x480 with 1 Axes>"
      ]
     },
     "metadata": {},
     "output_type": "display_data"
    }
   ],
   "source": [
    "import seaborn as sns\n",
    "\n",
    "sns.regplot(x ='x', y='y',data=df)"
   ]
  },
  {
   "cell_type": "markdown",
   "metadata": {},
   "source": [
    "### Where to Find These Functions:\n",
    "\n",
    "There is a class in scripts/ named simple_linear_ols_regression.py containing a class labeled _SL\\_OLS\\_Regression_ with the gradient descent and regression function.\n",
    "\n",
    "Here is the link to the file: https://github.com/dBCooper2/portfolio-backtesting/blob/main/scripts/simple_linear_ols_regression.py\n",
    "\n",
    "\n"
   ]
  },
  {
   "cell_type": "markdown",
   "metadata": {},
   "source": []
  }
 ],
 "metadata": {
  "kernelspec": {
   "display_name": ".env",
   "language": "python",
   "name": "python3"
  },
  "language_info": {
   "codemirror_mode": {
    "name": "ipython",
    "version": 3
   },
   "file_extension": ".py",
   "mimetype": "text/x-python",
   "name": "python",
   "nbconvert_exporter": "python",
   "pygments_lexer": "ipython3",
   "version": "3.11.7"
  }
 },
 "nbformat": 4,
 "nbformat_minor": 2
}
